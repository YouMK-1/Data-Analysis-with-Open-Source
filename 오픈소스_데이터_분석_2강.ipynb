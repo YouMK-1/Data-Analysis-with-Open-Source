{
  "cells": [
    {
      "cell_type": "markdown",
      "metadata": {
        "id": "view-in-github",
        "colab_type": "text"
      },
      "source": [
        "<a href=\"https://colab.research.google.com/github/YouMK-1/Data-Analysis-with-Open-Source/blob/main/%EC%98%A4%ED%94%88%EC%86%8C%EC%8A%A4_%EB%8D%B0%EC%9D%B4%ED%84%B0_%EB%B6%84%EC%84%9D_2%EA%B0%95.ipynb\" target=\"_parent\"><img src=\"https://colab.research.google.com/assets/colab-badge.svg\" alt=\"Open In Colab\"/></a>"
      ]
    },
    {
      "cell_type": "markdown",
      "metadata": {
        "id": "DkPKaAsoRq5Q"
      },
      "source": [
        "# 오픈소스 기반 데이터 분석 2강 - 데이터 분석을 위한 파이썬 1\n"
      ]
    },
    {
      "cell_type": "markdown",
      "metadata": {
        "id": "-I7BVVlnRrB0"
      },
      "source": [
        "## 2-1 리스트 슬라이싱\n",
        "\n",
        "대상 리스트의 부분 리스트를 생성 or 수정\n",
        "---\n",
        "**문법형식**\n",
        "\n",
        "리스트이름[시작 인덱스:끝 인덱스:간격]\n",
        "\n",
        "**코드 작성 시 유의사항**\n",
        "\n",
        "0부터 끝 인덱스 전까지만 출력, 끝 인덱스는 결과에 포함되지 않으니 잘 생각해서 생성"
      ]
    },
    {
      "cell_type": "markdown",
      "source": [
        "###응용 예시01 - 기본"
      ],
      "metadata": {
        "id": "2n6j6E57xagy"
      }
    },
    {
      "cell_type": "code",
      "execution_count": null,
      "metadata": {
        "id": "2Y2HEiaiRwAI",
        "outputId": "f7b18aeb-c0a0-4da5-8d26-6cf9ac51232a",
        "colab": {
          "base_uri": "https://localhost:8080/"
        }
      },
      "outputs": [
        {
          "output_type": "stream",
          "name": "stdout",
          "text": [
            "[10, 20, 30, 40]\n",
            "[50, 60, 70]\n"
          ]
        }
      ],
      "source": [
        "numbers = [10, 20, 30, 40, 50, 60, 70]\n",
        "# 첫 4개의 원소 출력\n",
        "first_four = numbers[0 : 4]\n",
        "print(first_four) #[10, 20, 30, 40]\n",
        "# 뒤 3개의 원소를 출력\n",
        "last_three = numbers[-3 : ]\n",
        "last_three = numbers[-3 : 7]\n",
        "#7 생략해도 동일한 결과\n",
        "print(last_three) #"
      ]
    },
    {
      "cell_type": "markdown",
      "source": [
        "###응용 예시02 - 음수\n",
        "\n",
        "순환적 구조로 반대부터 생각해서 계산하기"
      ],
      "metadata": {
        "id": "YaJ7seb9z6lk"
      }
    },
    {
      "cell_type": "code",
      "source": [
        "numbers = [10, 20, 30, 40, 50, 60, 70]\n",
        "subset1 = numbers[-3 : ]\n",
        "print(subset2) #[50, 60, 70]\n",
        "# 0-6까지의 인덱스가 있는데 순환적 구조로 반대부터 -1부터 -7이라고 생각하기(즉, 음수라서 0이 아닌 -1부터 시작)"
      ],
      "metadata": {
        "id": "X0Actl0Kz-sm"
      },
      "execution_count": null,
      "outputs": []
    },
    {
      "cell_type": "code",
      "source": [
        "numbers = [10, 20, 30, 40, 50, 60, 70]\n",
        "list2 = numbers[-1 : -4 : -1]\n",
        "print(list2) #[70, 60, 50]"
      ],
      "metadata": {
        "colab": {
          "base_uri": "https://localhost:8080/"
        },
        "id": "b53H4wcp4VnF",
        "outputId": "da087d55-a1b5-4bf3-8f13-5670d98a7e67"
      },
      "execution_count": 3,
      "outputs": [
        {
          "output_type": "stream",
          "name": "stdout",
          "text": [
            "[70, 60, 50]\n"
          ]
        }
      ]
    },
    {
      "cell_type": "markdown",
      "source": [
        "###응용 예시03 - 리스트 슬라이싱 간격 [시작:끝:간격]"
      ],
      "metadata": {
        "id": "2z2209BOxgdI"
      }
    },
    {
      "cell_type": "code",
      "source": [
        "numbers = [10, 20, 30, 40, 50, 60, 70]\n",
        "list1 = numbers[ : : 2]\n",
        "print(list1) #출력결과 [10, 30, 50, 70]\n",
        "list2 = numbers[ : : -1]\n",
        "print(list2) #출력결과 [70, 60, 50, 40, 30, 20, 10]"
      ],
      "metadata": {
        "colab": {
          "base_uri": "https://localhost:8080/"
        },
        "id": "v-i3iE7r1l_m",
        "outputId": "518256bc-bf6d-4e2f-f522-63ccc5f6bee8"
      },
      "execution_count": 2,
      "outputs": [
        {
          "output_type": "stream",
          "name": "stdout",
          "text": [
            "[10, 30, 50, 70]\n",
            "[70, 60, 50, 40, 30, 20, 10]\n"
          ]
        }
      ]
    },
    {
      "cell_type": "code",
      "execution_count": null,
      "metadata": {
        "id": "IO8bsKekR0W_",
        "outputId": "32029fa9-627d-4d1d-e347-3ed23eeccbc6",
        "colab": {
          "base_uri": "https://localhost:8080/"
        }
      },
      "outputs": [
        {
          "output_type": "stream",
          "name": "stdout",
          "text": [
            "[10, 30, 50, 70]\n",
            "[20, 40, 60]\n",
            "[70, 60, 50, 40, 30, 20, 10]\n"
          ]
        }
      ],
      "source": [
        "numbers = [10, 20, 30, 40, 50, 60, 70]\n",
        "\n",
        "# 홀수번째 항목 출력\n",
        "every_other_list = numbers[ : : 2]\n",
        "#시작:끝:간격\n",
        "print(every_other_list) #[10, 30, 50. 70]\n",
        "\n",
        "# 짝수번째 항목 출력\n",
        "every_other_list2 = numbers[1 : : 2]\n",
        "print(every_other_list2) #[20, 40, 60]\n",
        "\n",
        "# 역순 출력\n",
        "reverse_list = numbers[ : : -1]\n",
        "print(reverse_list)  #[70, 60,50,40,30,20,10]"
      ]
    },
    {
      "cell_type": "markdown",
      "source": [
        "### 응용 예시04 -  리스트 슬라이싱 2차원 표형태"
      ],
      "metadata": {
        "id": "CRw_Alor22zl"
      }
    },
    {
      "cell_type": "code",
      "execution_count": null,
      "metadata": {
        "id": "60qOf7uxVdAg",
        "outputId": "3297d252-44ae-47be-9c3c-5e1f23c79338",
        "colab": {
          "base_uri": "https://localhost:8080/"
        }
      },
      "outputs": [
        {
          "output_type": "stream",
          "name": "stdout",
          "text": [
            "[[1, 2, 3, 4], [5, 6, 7, 8]]\n",
            "[[1, 2], [5, 6], [9, 10], [13, 14]]\n",
            "[[1], [5], [9], [13]]\n",
            "[[1, 2, 3], [5, 6, 7], [9, 10, 11], [13, 14, 15]]\n"
          ]
        }
      ],
      "source": [
        "#2차원 표형태\n",
        "matrix = [\n",
        "    [1, 2, 3, 4],\n",
        "    [5, 6, 7, 8],\n",
        "    [9, 10, 11, 12],\n",
        "    [13, 14, 15, 16]\n",
        "]\n",
        "\n",
        "# 첫 두 행 출력 [1-8까지]\n",
        "first_two_rows = matrix[0:2]\n",
        "# 2개의 행, 리스트 안 각 숫자가 아닌 행 출력\n",
        "print(first_two_rows)\n",
        "\n",
        "# 첫 두 열 출력\n",
        "# 접근 방법: 행을 먼저 가져오고 안에 행 가져오기\n",
        "# 즉, 반복문 컴프리헨션 필요\n",
        "first_two_columns = [row[0:2] for row in matrix]\n",
        "print(first_two_columns)\n",
        "\n",
        "# 첫 1열 출력\n",
        "first_one_columns = [row[:1] for row in matrix]\n",
        "print(first_one_columns)\n",
        "\n",
        "#첫 3열 출력\n",
        "first_thr_columns = [row[:3] for row in matrix]\n",
        "print(first_thr_columns)\n",
        "\n",
        "# 코드 해석\n",
        "# for row in matrix → matrix에서 행을 하나씩 꺼내\n",
        "# row[:n] → 그 행의 처음 n개만 가져와\n",
        "# [ ... ] → 그걸 새로운 리스트로 만들어"
      ]
    },
    {
      "cell_type": "markdown",
      "metadata": {
        "id": "eOMufu5SXiAU"
      },
      "source": [
        "## 2-2 리스트 컴프리헨션\n",
        "반복가능한 객체: 리스트, 튜플, 딕셔너리, 문자열, 집합, range 객체\n",
        "\n",
        "**문법형식1**\n",
        "\n",
        "[표현식 for 변수 in 반복가능한 객체]\n",
        "\n",
        "**문법형식2**\n",
        "\n",
        "[표현식 for 변수 in 반복가능한 객체 if 조건]"
      ]
    },
    {
      "cell_type": "markdown",
      "source": [
        "###응용 예시01"
      ],
      "metadata": {
        "id": "1uDg01b3AZJI"
      }
    },
    {
      "cell_type": "code",
      "source": [
        "#리스트 생성 #반복문\n",
        "numbers1 = []\n",
        "for i in range(5):\n",
        "  numbers1.append(i)\n",
        "print(numbers1) #[0,1,2,3,4]\n",
        "#리스트 컴프리헨션 응용\n",
        "numbers2 = [i for i in range(5)]\n",
        "print(numbers2) #[0,1,2,3,4]"
      ],
      "metadata": {
        "id": "wk5Va5ZbAfDg",
        "outputId": "67711468-98c0-45ca-fc7d-daae4ccde985",
        "colab": {
          "base_uri": "https://localhost:8080/"
        }
      },
      "execution_count": 7,
      "outputs": [
        {
          "output_type": "stream",
          "name": "stdout",
          "text": [
            "[0, 1, 2, 3, 4]\n",
            "[0, 1, 2, 3, 4]\n"
          ]
        }
      ]
    },
    {
      "cell_type": "code",
      "execution_count": 10,
      "metadata": {
        "id": "JpmgdsW9V0CY",
        "colab": {
          "base_uri": "https://localhost:8080/"
        },
        "outputId": "1d5285a0-2132-4b02-89cb-06cf75e5cf37"
      },
      "outputs": [
        {
          "output_type": "stream",
          "name": "stdout",
          "text": [
            "[0, 1, 2, 3, 4]\n",
            "[0, 1, 2, 3, 4]\n"
          ]
        }
      ],
      "source": [
        "numbers1 = [ ]\n",
        "# 0 ~ 4 포함 리스트 생성\n",
        "# 2개의 식 전부 사용 가능\n",
        "# 반복문 사용식\n",
        "numbers1 = [num for num in range(5)]\n",
        "\n",
        "numbers2 = [ ]\n",
        "for i in range(5):\n",
        "    numbers2.append(i)\n",
        "# range(5)는 0, 1, 2, 3, 4를 만들어요 (0부터 5 전까지)\n",
        "# i에 이 숫자들이 하나씩 들어가요\n",
        "#append()는 리스트 끝에 요소를 추가하는 함수예요\n",
        "# i 값을 numbers 리스트에 넣어요\n",
        "print(numbers1)\n",
        "print(numbers2)"
      ]
    },
    {
      "cell_type": "markdown",
      "source": [
        "###응용 예시02 - 리스트 컴프리헨션 원소 조작"
      ],
      "metadata": {
        "id": "ljCrz0lxIZEw"
      }
    },
    {
      "cell_type": "code",
      "source": [
        "#0부터 4까지의 숫자를 각각 제곱해서 리스트에 담고 싶다면,\n",
        "#0*0, 1*1, 2*2, 3*3, 4*4\n",
        "squared_numbers = [i * i for i in range(5)]\n",
        "print(squared_numbers) #[0, 1, 4, 9, 16]"
      ],
      "metadata": {
        "id": "u5dfqiwzIfZc",
        "outputId": "71012c23-39c5-49dc-f6ad-e8cac6790446",
        "colab": {
          "base_uri": "https://localhost:8080/"
        }
      },
      "execution_count": 11,
      "outputs": [
        {
          "output_type": "stream",
          "name": "stdout",
          "text": [
            "[0, 1, 4, 9, 16]\n"
          ]
        }
      ]
    },
    {
      "cell_type": "code",
      "source": [
        "numbers = [1, 2, 3, 4, 5]\n",
        "squares = [num ** 2 for num in numbers]\n",
        "print(squares) #[1, 4, 9, 16, 25]"
      ],
      "metadata": {
        "id": "gukwJKHSJ19z",
        "outputId": "222df86a-f6a0-4244-b761-794dff8948e5",
        "colab": {
          "base_uri": "https://localhost:8080/"
        }
      },
      "execution_count": 12,
      "outputs": [
        {
          "output_type": "stream",
          "name": "stdout",
          "text": [
            "[1, 4, 9, 16, 25]\n"
          ]
        }
      ]
    },
    {
      "cell_type": "code",
      "execution_count": 14,
      "metadata": {
        "id": "cRC8x3_iW0im",
        "colab": {
          "base_uri": "https://localhost:8080/"
        },
        "outputId": "56baf055-47b2-4b13-ccf8-8c1937a5f261"
      },
      "outputs": [
        {
          "output_type": "stream",
          "name": "stdout",
          "text": [
            "[1, 4, 9, 16, 25]\n",
            "[1, 4, 9, 16, 25]\n"
          ]
        }
      ],
      "source": [
        "numbers = [1, 2, 3, 4, 5]\n",
        "squares1= [ ]\n",
        "\n",
        "# numbers의 모든 항목의 값을 제곱한 리스트\n",
        "#2개의 식 활용 가능\n",
        "#식1\n",
        "for num in numbers:\n",
        "  squares1.append(num ** 2)\n",
        "\n",
        "#식2\n",
        "squares2= [ ]\n",
        "squares2 = [num ** 2 for num in numbers]\n",
        "\n",
        "print(squares1)\n",
        "print(squares2)"
      ]
    },
    {
      "cell_type": "markdown",
      "source": [
        "###응용 예시03 - 리스트 컴프리헨션 나머지 연산자 활용\n",
        "\n",
        "- `num % 2 == 0` → 짝수\n",
        "- `num % 2 == 1` → 홀수\n",
        "- `num % 3 == 0` → 3의 배수\n",
        "- `num % 5 == 0` → 5의 배수"
      ],
      "metadata": {
        "id": "Q5rnNzK5L2-E"
      }
    },
    {
      "cell_type": "code",
      "source": [
        "numbers = [1, 2, 3, 4, 5, 6, 7, 8, 9, 10]\n",
        "even_numbers = [num for num in numbers\n",
        "if num % 2 == 0]\n",
        "print(even_numbers) #[2, 4, 6, 8, 10]"
      ],
      "metadata": {
        "id": "gm6TX7lFMgsf",
        "outputId": "8a905387-ba15-49ba-a0ba-5a5b0e4cdb84",
        "colab": {
          "base_uri": "https://localhost:8080/"
        }
      },
      "execution_count": 15,
      "outputs": [
        {
          "output_type": "stream",
          "name": "stdout",
          "text": [
            "[2, 4, 6, 8, 10]\n"
          ]
        }
      ]
    },
    {
      "cell_type": "code",
      "execution_count": 17,
      "metadata": {
        "id": "MAvimjk6Fqlc",
        "colab": {
          "base_uri": "https://localhost:8080/"
        },
        "outputId": "b5a11f52-3ba1-4793-b5bb-8ff4b0cf828f"
      },
      "outputs": [
        {
          "output_type": "stream",
          "name": "stdout",
          "text": [
            "[2, 4]\n",
            "[2, 4, 6, 8, 10]\n"
          ]
        }
      ],
      "source": [
        "numbers1 = [1, 2, 3, 4, 5, 6, 7, 8, 9, 10]\n",
        "numbers2 = [1, 2, 3, 4, 5, 6, 7, 8, 9, 10]\n",
        "even_numbers1 = [ ]\n",
        "even_numbers2 = [ ]\n",
        "# 짝수만 추출한 리스트\n",
        "# 식1: 반복문 사용\n",
        "#numbers에서 숫자를 하나씩 꺼내서 num에 넣어요\n",
        "# 조건이 참(짝수)일 때만   even_numbers 리스트에 추가해요\n",
        "for num in numbers1:\n",
        "    if num % 2 == 0:\n",
        "        even_numbers1.append(num)\n",
        "print(even_numbers1) #[2, 4, 6, 8, 10]\n",
        "\n",
        "#식2: 리스트 컴프리헨션\n",
        "even_numbers2 = [num for num in numbers if num % 2 == 0]\n",
        "print(even_numbers2)\n",
        "# 코드해석\n",
        "# Step 1: for num in numbers\n",
        "#  \"numbers 리스트에서 num을 하나씩 꺼내\"\n",
        "\n",
        "# Step 2: if num % 2 == 0\n",
        "#  \"만약 num을 2로 나눈 나머지가 0이면 (짝수면)\"\n",
        "\n",
        "# Step 3: num\n",
        "#  \"그 num을 결과에 포함시켜\"\n",
        "\n",
        "# Step 4: [...]\n",
        "#  \"모든 결과를 리스트로 만들어\"\n",
        "\n",
        "# Step 5: even_numbers =\n",
        "#  \"그 리스트를 even_numbers에 저장해\"\n",
        "\n"
      ]
    },
    {
      "cell_type": "code",
      "execution_count": null,
      "metadata": {
        "id": "HGO8XTxBFqld",
        "colab": {
          "base_uri": "https://localhost:8080/"
        },
        "outputId": "7e03b4c2-afab-46bb-b145-7f275261c790"
      },
      "outputs": [
        {
          "output_type": "stream",
          "name": "stdout",
          "text": [
            "[('사과', '주스'), ('사과', '잼'), ('사과', '통조림'), ('복숭아', '주스'), ('복숭아', '잼'), ('복숭아', '통조림'), ('바나나', '주스'), ('바나나', '잼'), ('바나나', '통조림')]\n"
          ]
        }
      ],
      "source": [
        "list1 = ['사과', '복숭아', '바나나']\n",
        "list2 = ['주스', '잼', '통조림']\n",
        "pairs = [ ]\n",
        "\n",
        "# 두 리스트에 포함되는 모든 원소를 조합한 투플의 리스트 생성\n",
        "# for fruit in list1:\n",
        "#     for product in list2:\n",
        "#         pairs.append((fruit, product))\n",
        "\n",
        "pairs = [(fruit, product) for fruit in list1 for product in list2 ]\n",
        "# 코드 해석\n",
        "# for fruit in list1 → list1에서 fruit를 하나씩 꺼내 (외부 루프)\n",
        "# for product in list2 → 각 fruit마다 list2의 모든 product와 조합 (내부 루프)\n",
        "# (fruit, product) → 튜플로 만들어\n",
        "# [...] → 모든 조합을 리스트에 담아\n",
        "\n",
        "print(pairs)"
      ]
    },
    {
      "cell_type": "code",
      "execution_count": null,
      "metadata": {
        "id": "K-BPhFTUFqle",
        "colab": {
          "base_uri": "https://localhost:8080/"
        },
        "outputId": "053f862a-f91a-47a4-a45e-de5fd5d351eb"
      },
      "outputs": [
        {
          "output_type": "stream",
          "name": "stdout",
          "text": [
            "{0: 0, 1: 1, 2: 4, 3: 9, 4: 16}\n"
          ]
        }
      ],
      "source": [
        "squares = { }\n",
        "\n",
        "# 딕셔너리 생성 # 키와 값의 쌍\n",
        "# 식1\n",
        "# for i in range(5):\n",
        "#     squares[i] = i ** 2\n",
        "\n",
        "# 식2\n",
        "squares = {i : i  ** 2 for i in range(5) }\n",
        "#코드 해석\n",
        "#for i in range(5) → 0, 1, 2, 3, 4를 하나씩 꺼내\n",
        "# i → 키로 사용\n",
        "# i ** 2 → 값으로 사용 (i의 제곱)\n",
        "# {...} → 딕셔너리로 만들어\n",
        "\n",
        "#키 0의 제곱은 0\n",
        "# 키 1의 제곱은 1\n",
        "# 키 2의 제곱은 4\n",
        "# 키 3의 제곱은 9\n",
        "# 키 4의 제곱은 16\n",
        "\n",
        "print(squares)"
      ]
    },
    {
      "cell_type": "code",
      "execution_count": 2,
      "metadata": {
        "id": "UoTcC8-GFqlf",
        "colab": {
          "base_uri": "https://localhost:8080/"
        },
        "outputId": "a0455ae1-12ae-411e-ded1-68bddc13ce14"
      },
      "outputs": [
        {
          "output_type": "stream",
          "name": "stdout",
          "text": [
            "{'서울': 957, '부산': 339, '인천': 294, '대구': 242}\n",
            "{'부산': 339}\n"
          ]
        }
      ],
      "source": [
        "city_population = {\n",
        "    '서울': 957, '부산': 339, '인천': 294, '대구': 242, '광주': 145, '대전': 147,\n",
        "    '울산': 114, '세종': 36, '수원': 115, '창원': 103, '고양': 105, '용인': 108, '성남': 94\n",
        "}\n",
        "\n",
        "# 인구 200만명 이상의 도시 리스트 #식1\n",
        "large_cities = {city: pop for city, pop in city_population.items() if pop >= 200}\n",
        "print(large_cities)\n",
        "# 코드해석\n",
        "# city_population.items() → 원본 딕셔너리에서 (도시명, 인구) 쌍을 꺼내\n",
        "# for city, pop in ... → 각 쌍을 city와 pop 변수로 분리\n",
        "# if pop >= 200 → 인구가 200 이상인 것만 필터링\n",
        "# city: pop → 조건을 통과한 것들을 키-값으로 저장\n",
        "# {...} → 새 딕셔너리로 만들어\n",
        "\n",
        "# items() 메서드는 딕셔너리의 모든 키-값 쌍을 튜플로 반환 결과: [('서울', 957), ('부산', 339), ...]\n",
        "\n",
        "# 인구 300만 이상 및 이름에 '산'이 포함된 도시 리스트 #식2\n",
        "large_short_name_cities = {city: pop for city, pop in city_population.items() if pop >= 300 and '산' in city}\n",
        "print(large_short_name_cities)\n",
        "# 코드해석\n",
        "\n"
      ]
    },
    {
      "cell_type": "markdown",
      "source": [
        "### 코드 해석"
      ],
      "metadata": {
        "id": "bA-d-M0F3Js_"
      }
    },
    {
      "cell_type": "markdown",
      "source": [
        "**식1 코드 해석**\n",
        "*   city_population.items() → 원본 딕셔너리에서 (도시명, 인구) 쌍을 꺼내\n",
        "*   for city, pop in ... → 각 쌍을 city와 pop 변수로 분리\n",
        "*   if pop >= 300 and '산' in city → 인구가 300이상이며 산이라는 단어가 포함된 것만 필터링\n",
        "*   city: pop → 조건을 통과한 것들을 키-값으로 저장\n",
        "*  {...} → 새 딕셔너리로 만들어\n",
        "\n",
        "\n",
        "---\n",
        "\n",
        "**식2 코드 해석**\n",
        "\n",
        "**언패킹이란  **\n",
        "\"묶여있는 것을 풀어서 여러 변수에 나눠 담는 것\", for 변수 in 반복가능한것:\n",
        "\n",
        "언패킹 예시\n",
        "*   items = [('a', 1), ('b', 2)]\n",
        "언패킹\n",
        "*   for letter, number in items: print(letter, number)  # a 1, b 2\n",
        "\n"
      ],
      "metadata": {
        "id": "DEytgyOB3d5E"
      }
    },
    {
      "cell_type": "markdown",
      "metadata": {
        "id": "njDOfr1LFqlf"
      },
      "source": [
        "## 2-3 문자열 형식화"
      ]
    },
    {
      "cell_type": "markdown",
      "source": [
        "### C 스타일 문자열 포매팅"
      ],
      "metadata": {
        "id": "WAlNXRRY8bO4"
      }
    },
    {
      "cell_type": "code",
      "execution_count": 5,
      "metadata": {
        "id": "fzO0h6KfFqlg",
        "colab": {
          "base_uri": "https://localhost:8080/"
        },
        "outputId": "7d9c3da9-f3b9-4d9d-d378-5cdcadd92a6f"
      },
      "outputs": [
        {
          "output_type": "stream",
          "name": "stdout",
          "text": [
            "이름: 홍길동, 나이: 30, 월급: 3500000원\n"
          ]
        }
      ],
      "source": [
        "name = '홍길동'\n",
        "age = 30\n",
        "salary = 3500000\n",
        "tax_rate = 0.1\n",
        "\n",
        "# 이름, 나이, 월급 출력\n",
        "basic_format = '이름: %s, 나이: %f, 월급: %d원' % (name, age, salary)\n",
        "# 직원이름, 나이, 세후 월급 출력\n",
        "\n",
        "\n",
        "# 직원이름, 나이, 월급, 세금, 실수령액 추력\n",
        "\n",
        "\n",
        "print(basic_format)\n"
      ]
    },
    {
      "cell_type": "markdown",
      "source": [
        "### str.format 문자열 포매팅"
      ],
      "metadata": {
        "id": "zYs5ptUa8hIn"
      }
    },
    {
      "cell_type": "code",
      "source": [
        "name = '홍길동'\n",
        "age = 30\n",
        "salary = 3500000\n",
        "tax_rate = 0.1\n",
        "\n",
        "# 인덱스 지정자도 가능 {0}, {1} 이런식으로 인덱스를 지정할 때 장점은 변수가 중복될 때 헷갈리지 않아도 됌\n",
        "basic_format = '이름: {}, 나이: {}, 월급: {}원'.format(name, age, salary)\n",
        "# 이름, 나이, 월급 출력\n",
        "\n",
        "# 직원이름, 나이, 세후 월급 출력\n",
        "\n",
        "# 직원이름, 나이, 월급, 세금, 실수령액 추력\n",
        "\n",
        "\n",
        "print(basic_format)\n"
      ],
      "metadata": {
        "id": "cIvmmcQux_ph"
      },
      "execution_count": null,
      "outputs": []
    },
    {
      "cell_type": "markdown",
      "source": [
        "### f-문자열 포매팅"
      ],
      "metadata": {
        "id": "1N0XXsu18nAp"
      }
    },
    {
      "cell_type": "code",
      "source": [
        "name = '홍길동'\n",
        "age = 30\n",
        "salary = 3500000\n",
        "tax_rate = 0.1\n",
        "\n",
        "# 이름, 나이, 월급 출력\n",
        "basic_format =  f'이름:  {name}, 나이: {age}, 월급: {salary}원'\n",
        "basic_format2 =  f'이름:  {name}, 나이: {age}, 월급: {salary:,}원'\n",
        "# 직원이름, 나이, 세후 월급 출력\n",
        "\n",
        "# 직원이름, 나이, 월급, 세금, 실수령액 추력\n",
        "\n",
        "print(basic_format)\n",
        "print(basic_format2)"
      ],
      "metadata": {
        "id": "EIO3z-XQx_ce",
        "colab": {
          "base_uri": "https://localhost:8080/"
        },
        "outputId": "bbdf68e1-2dcd-471e-955d-de01ae3d1257"
      },
      "execution_count": 16,
      "outputs": [
        {
          "output_type": "stream",
          "name": "stdout",
          "text": [
            "이름:  홍길동, 나이: 30, 월급: 3500000원\n",
            "이름:  홍길동, 나이: 30, 월급: 3,500,000원\n"
          ]
        }
      ]
    },
    {
      "cell_type": "markdown",
      "source": [
        "###f-문자열 포매팅의 다양한 활용법\n"
      ],
      "metadata": {
        "id": "jpmmMRbp7n0G"
      }
    },
    {
      "cell_type": "code",
      "source": [
        "#1) 기본 사용법\n",
        "name = '홍길동'\n",
        "age = 30\n",
        "\n",
        "result = f'이름: {name}, 나이: {age}'\n",
        "print(result) # 이름: 홍길동, 나이: 30\n",
        "\n",
        "---\n",
        "#2) 계산식 포함\n",
        "salary = 3500000\n",
        "tax_rate = 0.1\n",
        "\n",
        "result = f'세금: {salary * tax_rate}원'\n",
        "print(result) # 세금: 350000.0원\n",
        "---\n",
        "#3) 천 단위 콜마 표시\n",
        "salary = 3500000\n",
        "\n",
        "result = f'월급: {salary:,}원'\n",
        "print(result) # 월급: 3,500,000원\n"
      ],
      "metadata": {
        "id": "-n1hvTVr8xlx"
      },
      "execution_count": null,
      "outputs": []
    },
    {
      "cell_type": "markdown",
      "metadata": {
        "id": "6lnhCleJFqlg"
      },
      "source": [
        "## 2-4 컨텍스트 관리"
      ]
    },
    {
      "cell_type": "code",
      "execution_count": 18,
      "metadata": {
        "id": "eFpmQp3QFqlh"
      },
      "outputs": [],
      "source": [
        "# 파일 오픈 & 클로즈\n",
        "with open('output.txt', 'w')as file_write:\n",
        "    file_write.write('Hello, world!\\n')\n",
        "\n",
        "#클로즈 코드를 쓰지 않아도 되는 코드\n",
        "#리스트, 딕셔너리를 만들 때 만들어놓고 사용할 변수를 만들어주면, 해당되는 객체 활용을 끝나고 나서 반환해주어\n",
        "# 메모리 절약"
      ]
    },
    {
      "cell_type": "code",
      "execution_count": null,
      "metadata": {
        "id": "D0aOLti0Fqlh"
      },
      "outputs": [],
      "source": [
        "# 복수개의 파일(읽기 & 쓰기) 관리\n",
        "\n"
      ]
    },
    {
      "cell_type": "code",
      "execution_count": null,
      "metadata": {
        "id": "6SE0rrD5Fqli"
      },
      "outputs": [],
      "source": [
        "import urllib.request\n",
        "\n",
        "# URL 연결 관리\n",
        "('https://raw.githubusercontent.com/jaehwachung/Data-Analysis-with-Open-Source/refs/heads/main/Chapter%203/students.csv')\n",
        "    data = response.read( ).decode('utf-8')\n",
        "\n",
        "print(data)"
      ]
    }
  ],
  "metadata": {
    "colab": {
      "provenance": [],
      "include_colab_link": true
    },
    "kernelspec": {
      "display_name": "Python 3",
      "name": "python3"
    },
    "language_info": {
      "name": "python"
    }
  },
  "nbformat": 4,
  "nbformat_minor": 0
}